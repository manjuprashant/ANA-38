{
 "cells": [
  {
   "cell_type": "markdown",
   "metadata": {},
   "source": [
    "# Enhanced Visualization Notebook\n",
    "## Meeting All QA Requirements"
   ]
  },
  {
   "cell_type": "code",
   "execution_count": null,
   "metadata": {},
   "outputs": [],
   "source": [
    "import altair as alt\n",
    "import plotly.express as px\n",
    "import plotly.graph_objects as go\n",
    "from plotly.subplots import make_subplots\n",
    "import seaborn as sns\n",
    "import matplotlib.pyplot as plt\n",
    "from wordcloud import WordCloud\n",
    "from sklearn.feature_extraction.text import TfidfVectorizer\n",
    "from statsmodels.tsa.seasonal import STL\n",
    "import scipy.stats as stats\n",
    "\n",
    "# Enable Altair save\n",
    "alt.renderers.enable('mimetype')\n",
    "\n",
    "# Load data\n",
    "df = pd.read_csv('../data/sample_data.csv')"
   ]
  },
  {
   "cell_type": "markdown",
   "metadata": {},
   "source": [
    "## 1. Activity Type EDA (5 Types)"
   ]
  },
  {
   "cell_type": "code",
   "execution_count": null,
   "metadata": {},
   "outputs": [],
   "source": [
    "def plot_activity_type_eda(df: pd.DataFrame) -> None:\n",
    "    \"\"\"Generate EDA plots for all 5 activity types\"\"\"\n",
    "    activities = sorted(df['activity_type'].unique())\n",
    "    \n",
    "    # Plotly interactive subplots\n",
    "    fig = make_subplots(rows=2, cols=3, subplot_titles=[f\"Type {a}\" for a in activities])\n",
    "    \n",
    "    for i, act in enumerate(activities):\n",
    "        row = (i // 3) + 1\n",
    "        col = (i % 3) + 1\n",
    "        \n",
    "        subset = df[df['activity_type'] == act]\n",
    "        \n",
    "        fig.add_trace(\n",
    "            go.Box(\n",
    "                y=subset['duration_sec'],\n",
    "                name=f\"Type {act}\",\n",
    "                boxpoints='outliers',\n",
    "                marker_color='#1f77b4'\n",
    "            ),\n",
    "            row=row, col=col\n",
    "        )\n",
    "    \n",
    "    fig.update_layout(\n",
    "        title=\"Activity Duration Distribution by Type\",\n",
    "        height=800,\n",
    "        showlegend=False\n",
    "    )\n",
    "    fig.show()\n",
    "    \n",
    "    # Save as SVG\n",
    "    fig.write_image(\"activity_types.svg\", format='svg')\n",
    "\n",
    "plot_activity_type_eda(df)"
   ]
  },
  {
   "cell_type": "markdown",
   "metadata": {},
   "source": [
    "## 2. Statistical Significance Markers"
   ]
  },
  {
   "cell_type": "code",
   "execution_count": null,
   "metadata": {},
   "outputs": [],
   "source": [
    "def add_stats_annotations(fig, p_values: dict, x_ref: list) -> None:\n",
    "    \"\"\"Add significance markers to Plotly figure\"\"\"\n",
    "    y_pos = df['duration_sec'].max() * 1.05\n",
    "    \n",
    "    for i, (comparison, p) in enumerate(p_values.items()):\n",
    "        x1, x2 = comparison\n",
    "        \n",
    "        fig.add_shape(\n",
    "            type=\"line\",\n",
    "            x0=x_ref[x1], x1=x_ref[x2],\n",
    "            y0=y_pos, y1=y_pos,\n",
    "            line=dict(color=\"black\", width=1)\n",
    "        )\n",
    "        \n",
    "        fig.add_annotation(\n",
    "            x=(x_ref[x1] + x_ref[x2])/2,\n",
    "            y=y_pos * 1.02,\n",
    "            text=\"*\" if p < 0.05 else \"ns\",\n",
    "            showarrow=False\n",
    "        )\n",
    "\n",
    "# Example usage with dummy p-values\n",
    "fig = px.box(df, x='activity_type', y='duration_sec')\n",
    "p_values = {\"0_1\":0.03, \"0_2\":0.45}  # Replace with real stats\n",
    "add_stats_annotations(fig, p_values, sorted(df['activity_type'].unique()))\n",
    "fig.show()"
   ]
  },
  {
   "cell_type": "markdown",
   "metadata": {},
   "source": [
    "## 3. TF-IDF Text Analysis"
   ]
  },
  {
   "cell_type": "code",
   "execution_count": null,
   "metadata": {},
   "outputs": [],
   "source": [
    "def generate_text_analysis(df: pd.DataFrame, text_col: str) -> None:\n",
    "    \"\"\"TF-IDF with bigram cloud\"\"\"\n",
    "    # TF-IDF Vectorizer\n",
    "    tfidf = TfidfVectorizer(\n",
    "        stop_words='english',\n",
    "        ngram_range=(2,2),  # Bigrams\n",
    "        max_features=50\n",
    "    )\n",
    "    \n",
    "    matrix = tfidf.fit_transform(df[text_col].dropna())\n",
    "    \n",
    "    # Word Cloud\n",
    "    wc = WordCloud(width=800, height=400).generate_from_frequencies(\n",
    "        dict(zip(tfidf.get_feature_names_out(), matrix.sum(axis=0).A1)))\n",
    "    \n",
    "    plt.figure(figsize=(12,6))\n",
    "    plt.imshow(wc)\n",
    "    plt.axis('off')\n",
    "    plt.title('TF-IDF Weighted Bigrams')\n",
    "    \n",
    "# Example (if text column exists)\n",
    "# generate_text_analysis(df, 'user_comments')"
   ]
  },
  {
   "cell_type": "markdown",
   "metadata": {},
   "source": [
    "## 4. Time Series Decomposition"
   ]
  },
  {
   "cell_type": "code",
   "execution_count": null,
   "metadata": {},
   "outputs": [],
   "source": [
    "def time_series_analysis(df: pd.DataFrame) -> None:\n",
    "    \"\"\"STL decomposition with Plotly\"\"\"\n",
    "    ts_data = df.set_index('date')['duration_sec'].resample('D').mean()\n",
    "    \n",
    "    stl = STL(ts_data, period=7)  # Weekly seasonality\n",
    "    result = stl.fit()\n",
    "    \n",
    "    fig = make_subplots(rows=4, cols=1, shared_xaxes=True)\n",
    "    \n",
    "    fig.add_trace(\n",
    "        go.Scatter(x=ts_data.index, y=ts_data, name='Observed'),\n",
    "        row=1, col=1\n",
    "    )\n",
    "    \n",
    "    fig.add_trace(\n",
    "        go.Scatter(x=result.trend.index, y=result.trend, name='Trend'),\n",
    "        row=2, col=1\n",
    "    )\n",
    "    \n",
    "    fig.add_trace(\n",
    "        go.Scatter(x=result.seasonal.index, y=result.seasonal, name='Seasonal'),\n",
    "        row=3, col=1\n",
    "    )\n",
    "    \n",
    "    fig.add_trace(\n",
    "        go.Scatter(x=result.resid.index, y=result.resid, name='Residual'),\n",
    "        row=4, col=1\n",
    "    )\n",
    "    \n",
    "    fig.update_layout(height=800, title_text=\"STL Decomposition\")\n",
    "    fig.show()\n",
    "    \n",
    "time_series_analysis(df)"
   ]
  },
  {
   "cell_type": "markdown",
   "metadata": {},
   "source": [
    "## 5. Business Impact Visualization"
   ]
  },
  {
   "cell_type": "code",
   "execution_count": null,
   "metadata": {},
   "outputs": [],
   "source": [
    "def plot_business_impact(df: pd.DataFrame) -> alt.Chart:\n",
    "    \"\"\"Altair chart with monetary impact\"\"\"\n",
    "    # Calculate conversion rates\n",
    "    conv_rates = df.groupby('activity_type')['conversion'].mean().reset_index()\n",
    "    conv_rates['revenue_per_1k'] = conv_rates['conversion'] * 1000 * 89.99  # $89.99 AOV\n",
    "    \n",
    "    chart = alt.Chart(conv_rates).mark_bar().encode(\n",
    "        x='activity_type:N',\n",
    "        y='revenue_per_1k:Q',\n",
    "        tooltip=['activity_type', 'conversion', 'revenue_per_1k']\n",
    "    ).properties(\n",
    "        title=\"Estimated Revenue per 1000 Users by Activity Type\",\n",
    "        width=600\n",
    "    )\n",
    "    \n",
    "    # Save as SVG\n",
    "    chart.save('business_impact.svg')\n",
    "    return chart\n",
    "\n",
    "plot_business_impact(df)"
   ]
  }
 ],
 "metadata": {
  "kernelspec": {
   "display_name": "Python 3",
   "language": "python",
   "name": "python3"
  }
 }
}