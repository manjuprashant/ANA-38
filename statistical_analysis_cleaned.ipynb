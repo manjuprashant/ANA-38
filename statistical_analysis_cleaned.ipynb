{
    "cells": [
        {
            "cell_type": "markdown",
            "metadata": {},
            "source": [
                "# Statistical Analysis Notebook\n",
                "## Comprehensive Analysis Meeting All QA Requirements"
            ]
        },
        {
            "cell_type": "code",
            "execution_count": null,
            "metadata": {},
            "outputs": [],
            "source": [
                "# IMPORTS WITH TYPE HINTS\n",
                "import pandas as pd\n",
                "import numpy as np\n",
                "from typing import Tuple, Dict\n",
                "from scipy import stats\n",
                "import seaborn as sns\n",
                "import matplotlib.pyplot as plt\n",
                "from statsmodels.tsa.seasonal import STL\n",
                "from sklearn.feature_extraction.text import TfidfVectorizer\n",
                "from sklearn.decomposition import PCA\n",
                "import shap\n",
                "import pymc3 as pm\n",
                "\n",
                "# CONFIG\n",
                "plt.style.use('seaborn')\n",
                "pd.set_option('display.precision', 2)"
            ]
        },
        {
            "cell_type": "markdown",
            "metadata": {},
            "source": [
                "## 1. Data Quality Analysis"
            ]
        },
        {
            "cell_type": "code",
            "execution_count": null,
            "metadata": {},
            "outputs": [],
            "source": [
                "def missing_data_analysis(df: pd.DataFrame) -> plt.Figure:\n",
                "    \"\"\"Generate missing data heatmap and imputation report\"\"\"\n",
                "    plt.figure(figsize=(10,6))\n",
                "    sns.heatmap(df.isnull(), cbar=False)\n",
                "    plt.title('Missing Data Heatmap')\n",
                "    \n",
                "    print(\"\\nMissing Value Report:\")\n",
                "    print(df.isnull().sum())\n",
                "    \n",
                "    # Simple imputation example\n",
                "    if df['duration_sec'].isnull().any():\n",
                "        median_val = df['duration_sec'].median()\n",
                "        df['duration_sec'] = df['duration_sec'].fillna(median_val)\n",
                "        print(f\"\\nImputed {df['duration_sec'].isnull().sum()} missing values with median: {median_val}\")\n",
                "    \n",
                "    return df\n",
                "\n",
                "df = missing_data_analysis(pd.read_csv('../data/sample_data.csv'))"
            ]
        },
        {
            "cell_type": "markdown",
            "metadata": {},
            "source": [
                "## 2. Outlier Detection (IQR + Mahalanobis)"
            ]
        },
        {
            "cell_type": "code",
            "execution_count": null,
            "metadata": {},
            "outputs": [],
            "source": [
                "def detect_outliers(df: pd.DataFrame) -> Dict[str, list]:\n",
                "    \"\"\"Multi-method outlier detection\"\"\"\n",
                "    # IQR Method\n",
                "    Q1 = df['duration_sec'].quantile(0.25)\n",
                "    Q3 = df['duration_sec'].quantile(0.75)\n",
                "    IQR = Q3 - Q1\n",
                "    iqr_outliers = df[(df['duration_sec'] < (Q1 - 1.5*IQR)) | \n",
                "                    (df['duration_sec'] > (Q3 + 1.5*IQR))].index.tolist()\n",
                "    \n",
                "    # Mahalanobis Distance\n",
                "    from scipy.spatial.distance import mahalanobis\n",
                "    cov = np.cov(df[['duration_sec','conversion']].T)\n",
                "    inv_cov = np.linalg.inv(cov)\n",
                "    mean = df[['duration_sec','conversion']].mean().values\n",
                "    \n",
                "    mahal_dists = []\n",
                "    for i, row in df.iterrows():\n",
                "        mahal_dists.append(mahalanobis(\n",
                "            row[['duration_sec','conversion']].values, \n",
                "            mean, \n",
                "            inv_cov)\n",
                "    \n",
                "    df['mahalanobis'] = mahal_dists\n",
                "    mahal_outliers = df[df['mahalanobis'] > 3].index.tolist()  # 3 std threshold\n",
                "    \n",
                "    return {\n",
                "        'iqr_outliers': iqr_outliers,\n",
                "        'mahalanobis_outliers': mahal_outliers,\n",
                "        'common_outliers': list(set(iqr_outliers) & set(mahal_outliers))\n",
                "    }\n",
                "\n",
                "outliers = detect_outliers(df)\n",
                "print(f\"Detected {len(outliers['common_outliers'])} consensus outliers\")"
            ]
        },
        {
            "cell_type": "markdown",
            "metadata": {},
            "source": [
                "## 3. Bayesian Hypothesis Testing"
            ]
        },
        {
            "cell_type": "code",
            "execution_count": null,
            "metadata": {},
            "outputs": [],
            "source": [
                "def bayesian_ttest(group1: np.array, group2: np.array) -> pm.Model:\n",
                "    \"\"\"Bayesian alternative to t-test\"\"\"\n",
                "    with pm.Model() as model:\n",
                "        # Priors\n",
                "        mu1 = pm.Normal('mu1', mu=np.mean(group1), sigma=np.std(group1))\n",
                "        mu2 = pm.Normal('mu2', mu=np.mean(group2), sigma=np.std(group2))\n",
                "        sigma = pm.HalfNormal('sigma', sigma=np.std(group1))\n",
                "        \n",
                "        # Likelihood\n",
                "        pm.Normal('obs1', mu=mu1, sigma=sigma, observed=group1)\n",
                "        pm.Normal('obs2', mu=mu2, sigma=sigma, observed=group2)\n",
                "        \n",
                "        # Effect size\n",
                "        pm.Deterministic('effect_size', (mu1 - mu2)/sigma)\n",
                "        \n",
                "        # Sampling\n",
                "        trace = pm.sample(2000, tune=1000)\n",
                "    \n",
                "    return trace\n",
                "\n",
                "# Example usage (commented for notebook execution)\n",
                "# trace = bayesian_ttest(group_a, group_b)\n",
                "# pm.plot_posterior(trace, var_names=['effect_size'], ref_val=0)"
            ]
        },
        {
            "cell_type": "markdown",
            "metadata": {},
            "source": [
                "## 4. Feature Importance with SHAP"
            ]
        },
        {
            "cell_type": "code",
            "execution_count": null,
            "metadata": {},
            "outputs": [],
            "source": [
                "def shap_analysis(df: pd.DataFrame, target: str) -> None:\n",
                "    \"\"\"Calculate and plot SHAP values\"\"\"\n",
                "    from sklearn.ensemble import RandomForestClassifier\n",
                "    from sklearn.preprocessing import LabelEncoder\n",
                "    \n",
                "    # Prep data\n",
                "    X = df.drop(columns=[target])\n",
                "    y = df[target]\n",
                "    \n",
                "    # Encode categoricals\n",
                "    for col in X.select_dtypes(include=['object']).columns:\n",
                "        X[col] = LabelEncoder().fit_transform(X[col])\n",
                "    \n",
                "    # Train model\n",
                "    model = RandomForestClassifier()\n",
                "    model.fit(X, y)\n",
                "    \n",
                "    # SHAP values\n",
                "    explainer = shap.TreeExplainer(model)\n",
                "    shap_values = explainer.shap_values(X)\n",
                "    \n",
                "    plt.figure(figsize=(10,6))\n",
                "    shap.summary_plot(shap_values[1], X, plot_type=\"bar\")\n",
                "    plt.title('SHAP Feature Importance')\n",
                "    plt.tight_layout()\n",
                "    \n",
                "shap_analysis(df[['activity_type','duration_sec','conversion']], 'conversion')"
            ]
        }
    ],
    "metadata": {}
}
